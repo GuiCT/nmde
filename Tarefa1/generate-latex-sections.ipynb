{
 "cells": [
  {
   "cell_type": "code",
   "execution_count": 6,
   "metadata": {},
   "outputs": [],
   "source": [
    "using Printf\n",
    "using JSON"
   ]
  },
  {
   "cell_type": "code",
   "execution_count": 43,
   "metadata": {},
   "outputs": [],
   "source": [
    "FUNCTIONS_FILE_PATH = joinpath(\n",
    "    @__DIR__,\n",
    "    \"functions.json\",\n",
    ")\n",
    "\n",
    "OUTPUT_TMP_FILE_PATH = joinpath(\n",
    "    @__DIR__,\n",
    "    \"out.tmp.txt\"\n",
    ")\n",
    "\n",
    "from_json = JSON.parsefile(\n",
    "    FUNCTIONS_FILE_PATH\n",
    ")\n",
    "\n",
    "step_sizes = from_json[\"usedStepsizes\"]\n",
    "items = from_json[\"functions\"] |> keys |> collect |> sort;"
   ]
  },
  {
   "cell_type": "code",
   "execution_count": 3,
   "metadata": {},
   "outputs": [
    {
     "data": {
      "text/plain": [
       "\"\\\\begin{table}[H]\\n    \\\\centering\\n    \\\\resizebox{\\\\textwidth}{!}{\\n        \\\\begin{tabular}{ll|lllllllll}\\n        \\\\hline\\n        \\\\csvreader[\\n            column count=11,\\n            no head,\\n            table head=\\\\hline,\\n            late after line=\\\\\\\\\\\\hline\\n        ]\\n       \"\u001b[93m\u001b[1m ⋯ 414 bytes ⋯ \u001b[22m\u001b[39m\"a}\\n    \\\\end{tabular}}\\n    \\\\caption{Item \\${{item}}\\$, com \\$h={{stepsize}}\\$}\\n\\\\end{table}\\n\\n\\\\begin{figure}[H]\\n    \\\\includegraphics[width=\\\\linewidth]{results/{{item}}_h_{{stepsize}}.png}\\n    \\\\caption{Gráfico plotado para o item \\${{item}}\\$ quando \\$h={{stepsize}}\\$}\\n\\\\end{figure}\""
      ]
     },
     "metadata": {},
     "output_type": "display_data"
    }
   ],
   "source": [
    "format_str = raw\"\"\"\\begin{table}[H]\n",
    "    \\centering\n",
    "    \\resizebox{\\textwidth}{!}{\n",
    "        \\begin{tabular}{ll|lllllllll}\n",
    "        \\hline\n",
    "        \\csvreader[\n",
    "            column count=11,\n",
    "            no head,\n",
    "            table head=\\hline,\n",
    "            late after line=\\\\\\hline\n",
    "        ]\n",
    "        {results/{{item}}_h_{{stepsize}}.csv}\n",
    "        {1=\\x,2=\\ValorReal,3=\\ValorAvancada,4=\\ErroAvancada,5=\\ErroAvancadaRelativa,6=\\ValorAtrasada,7=\\ErroAtrasada,8=\\ErroAtrasadaRelativa,9=\\ValorCentrada,10=\\ErroCentrada,11=\\ErroCentradaRelativa}\n",
    "        {\\x&\\ValorReal&\\ValorAvancada&\\ErroAvancada&\\ErroAvancadaRelativa&\\ValorAtrasada&\\ErroAtrasada&\\ErroAtrasadaRelativa&\\ValorCentrada&\\ErroCentrada&\\ErroCentradaRelativa}\n",
    "    \\end{tabular}}\n",
    "    \\caption{Item ${{item}}$, com $h={{stepsize}}$}\n",
    "\\end{table}\n",
    "\n",
    "\\begin{figure}[H]\n",
    "    \\includegraphics[width=\\linewidth]{results/{{item}}_h_{{stepsize}}.png}\n",
    "    \\caption{Gráfico plotado para o item ${{item}}$ quando $h={{stepsize}}$}\n",
    "\\end{figure}\"\"\""
   ]
  },
  {
   "cell_type": "code",
   "execution_count": 40,
   "metadata": {},
   "outputs": [],
   "source": [
    "latex_final_string = \"\"\n",
    "for item in items\n",
    "    ssection_str = \"\"\n",
    "    ssection = @sprintf \"\\\\subsection{Item \\$%s\\$}\" item\n",
    "    ssection_str = ssection_str * ssection * \"\\n\"\n",
    "    for step in step_sizes\n",
    "        sssection_str = \"\"\n",
    "        sssection = @sprintf \"\\\\subsubsection{\\$h=%s\\$}\" step\n",
    "        sssection_str = sssection_str * sssection * \"\\n\"\n",
    "        table_and_figure = replace(format_str, \"{{item}}\" => item, \"{{stepsize}}\" => step)\n",
    "        sssection_str = sssection_str * table_and_figure * \"\\n\"\n",
    "        ssection_str = ssection_str * sssection_str * \"\\n\"\n",
    "    end\n",
    "    latex_final_string = latex_final_string * ssection_str * \"\\n\"\n",
    "end"
   ]
  },
  {
   "cell_type": "code",
   "execution_count": 44,
   "metadata": {},
   "outputs": [],
   "source": [
    "open(OUTPUT_TMP_FILE_PATH, \"w\") do fileio\n",
    "    print(fileio, latex_final_string)\n",
    "end"
   ]
  }
 ],
 "metadata": {
  "kernelspec": {
   "display_name": "Julia 1.11.2",
   "language": "julia",
   "name": "julia-1.11"
  },
  "language_info": {
   "file_extension": ".jl",
   "mimetype": "application/julia",
   "name": "julia",
   "version": "1.11.2"
  }
 },
 "nbformat": 4,
 "nbformat_minor": 2
}
